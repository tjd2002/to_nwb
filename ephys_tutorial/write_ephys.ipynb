{
 "cells": [
  {
   "cell_type": "code",
   "execution_count": 8,
   "metadata": {},
   "outputs": [],
   "source": [
    "from pynwb import NWBFile\n",
    "from datetime import datetime\n",
    "import numpy as np\n",
    "\n",
    "nwbfile = NWBFile(source='path of data in old format',  # required\n",
    "                  session_description='mouse in open exploration and theta maze',  # required\n",
    "                  identifier='id',  # required\n",
    "                  session_start_time=datetime(2017, 5, 4, 1, 1, 1),  # required\n",
    "                  file_create_date=datetime.now(),  # optional\n",
    "                  experimenter='My Name',  # optional\n",
    "                  session_id='session_id',  # optional\n",
    "                  institution='University of My Institution',  # optional\n",
    "                  lab='My Lab Name',  # optional\n",
    "                  related_publications='DOI:10.1016/j.neuron.2016.12.011',  # optional\n",
    "                  )"
   ]
  },
  {
   "cell_type": "code",
   "execution_count": 9,
   "metadata": {},
   "outputs": [],
   "source": [
    "shank_channels = [[0, 1, 2, 3], [0, 1, 2]]\n",
    "\n",
    "electrode_counter = 0\n",
    "for shankn, channels in enumerate(shank_channels):\n",
    "    device_name = 'shank{}'.format(shankn)\n",
    "    device = nwbfile.create_device(device_name, 'source')\n",
    "    electrode_group = nwbfile.create_electrode_group(\n",
    "        name=device_name + '_electrodes',\n",
    "        source='source',\n",
    "        description=device_name,\n",
    "        device=device,\n",
    "        location='brain area')\n",
    "    for channel in channels:\n",
    "        nwbfile.add_electrode(electrode_counter,\n",
    "                              5.3, 1.5, 8.5,  # position\n",
    "                              imp=np.nan,\n",
    "                              location='unknown',\n",
    "                              filtering='unknown',\n",
    "                              description='electrode {} of shank {}, channel {}'.format(\n",
    "                                  electrode_counter, shankn, channel),\n",
    "                              group=electrode_group)\n",
    "        electrode_counter += 1\n",
    "all_table_region = nwbfile.create_electrode_table_region(\n",
    "    list(range(electrode_counter)), 'all electrodes')"
   ]
  },
  {
   "cell_type": "code",
   "execution_count": 10,
   "metadata": {},
   "outputs": [],
   "source": [
    "from pynwb.ecephys import ElectricalSeries, LFP\n",
    "\n",
    "lfp_data = np.random.randn(100, 7)\n",
    "\n",
    "all_lfp = nwbfile.add_acquisition(\n",
    "    LFP('source',\n",
    "        ElectricalSeries('name', 'source',\n",
    "            lfp_data, all_table_region,\n",
    "            starting_time=0.0, rate=1000.,  # Hz\n",
    "            resolution=.001,\n",
    "            conversion=1., unit='V')\n",
    "        )\n",
    "    )"
   ]
  },
  {
   "cell_type": "code",
   "execution_count": 11,
   "metadata": {},
   "outputs": [],
   "source": [
    "from pynwb.misc import UnitTimes\n",
    "\n",
    "# gen spiking data\n",
    "all_spikes = []\n",
    "for unit in range(20):\n",
    "    n_spikes = np.random.poisson(lam=10)\n",
    "    all_spikes.append(np.random.randn(n_spikes))\n",
    "\n",
    "# write UnitTimes object\n",
    "ut = UnitTimes(name='name', source='source')\n",
    "for i, unit_spikes in enumerate(all_spikes):\n",
    "    ut.add_spike_times(i, unit_spikes)\n",
    "\n",
    "spiking_module = nwbfile.create_processing_module(name='spikes',\n",
    "    source='source', description='data relevant to spiking')\n",
    "\n",
    "spiking_module.add_container(ut)"
   ]
  },
  {
   "cell_type": "code",
   "execution_count": 12,
   "metadata": {},
   "outputs": [],
   "source": [
    "from pynwb.behavior import SpatialSeries, Position\n",
    "\n",
    "position_data = np.array([np.linspace(0, 10,100),\n",
    "                          np.linspace(1, 8, 100)]).T\n",
    "tt_position = np.linspace(0, 100) / 200\n",
    "\n",
    "spatial_series_object = SpatialSeries(name='name', source='source',\n",
    "                                      data=position_data,\n",
    "                                      reference_frame='unknown',\n",
    "                                      conversion=np.nan,\n",
    "                                      resolution=np.nan,\n",
    "                                      timestamps=tt_position)\n",
    "pos_obj = Position(source='source', spatial_series=spatial_series_object,\n",
    "                   name='name')\n",
    "behavior_module = nwbfile.create_processing_module(name='behavior',\n",
    "    source='source', description='data relevant to behavior')\n",
    "\n",
    "behavior_module.add_container(pos_obj)\n",
    "\n",
    "###\n",
    "\n",
    "from pynwb.file import Subject\n",
    "\n",
    "nwbfile.subject = Subject(age='9 months', description='description',\n",
    "        species='rat', genotype='genotype', sex='M', source='source')"
   ]
  },
  {
   "cell_type": "code",
   "execution_count": 13,
   "metadata": {},
   "outputs": [
    {
     "name": "stdout",
     "output_type": "stream",
     "text": [
      "(100, 7)\n"
     ]
    }
   ],
   "source": [
    "from pynwb import NWBHDF5IO\n",
    "\n",
    "with NWBHDF5IO('test_ephys.nwb', mode='w') as io:\n",
    "    io.write(nwbfile)\n",
    "\n",
    "with NWBHDF5IO('test_ephys.nwb', mode='r') as io:\n",
    "    nwbfile = io.read()\n",
    "\n",
    "    print(nwbfile.acquisition['LFP']['electrical_series'].data.shape)"
   ]
  }
 ],
 "metadata": {
  "kernelspec": {
   "display_name": "Python 3",
   "language": "python",
   "name": "python3"
  },
  "language_info": {
   "codemirror_mode": {
    "name": "ipython",
    "version": 3
   },
   "file_extension": ".py",
   "mimetype": "text/x-python",
   "name": "python",
   "nbconvert_exporter": "python",
   "pygments_lexer": "ipython3",
   "version": "3.6.3"
  }
 },
 "nbformat": 4,
 "nbformat_minor": 2
}
